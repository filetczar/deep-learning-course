{
 "metadata": {
  "language_info": {
   "codemirror_mode": {
    "name": "ipython",
    "version": 3
   },
   "file_extension": ".py",
   "mimetype": "text/x-python",
   "name": "python",
   "nbconvert_exporter": "python",
   "pygments_lexer": "ipython3",
   "version": "3.8.5"
  },
  "orig_nbformat": 2,
  "kernelspec": {
   "name": "python385jvsc74a57bd0e2875cea88ccda1abc495529b39daef8259c80b535f2fa7045192d954b19a3c5",
   "display_name": "Python 3.8.5 64-bit ('base': conda)"
  }
 },
 "nbformat": 4,
 "nbformat_minor": 2,
 "cells": [
  {
   "source": [
    "import pandas as pd \n",
    "import numpy as np \n",
    "import time"
   ],
   "cell_type": "code",
   "metadata": {},
   "execution_count": 5,
   "outputs": []
  },
  {
   "cell_type": "code",
   "execution_count": 9,
   "metadata": {},
   "outputs": [
    {
     "output_type": "stream",
     "name": "stdout",
     "text": [
      "vectorized took 0.3809928894042969 ms\n2505.1629577634767\n"
     ]
    }
   ],
   "source": [
    "w = np.random.rand(10000)\n",
    "x = np.random.rand(10000)\n",
    "tic = time.time()\n",
    "z = np.dot(w,x)\n",
    "toc = time.time()\n",
    "print(f\"vectorized took {(toc-tic)*1000} ms\")\n",
    "print(z)"
   ]
  },
  {
   "cell_type": "code",
   "execution_count": 10,
   "metadata": {},
   "outputs": [
    {
     "output_type": "stream",
     "name": "stdout",
     "text": [
      "44\n"
     ]
    }
   ],
   "source": [
    "y = np.array([1,2,3])\n",
    "d = np.array([6,7,8])\n",
    "p = np.dot(y,d)\n",
    "print(p)"
   ]
  },
  {
   "cell_type": "code",
   "execution_count": 12,
   "metadata": {},
   "outputs": [],
   "source": [
    "v = np.random.rand(1000)\n",
    "u = np.exp(v)"
   ]
  },
  {
   "cell_type": "code",
   "execution_count": 15,
   "metadata": {},
   "outputs": [
    {
     "output_type": "stream",
     "name": "stdout",
     "text": [
      "[1.34142678 1.52025037 1.50908065]\n"
     ]
    }
   ],
   "source": [
    "print(u[:3])"
   ]
  },
  {
   "cell_type": "code",
   "execution_count": null,
   "metadata": {},
   "outputs": [],
   "source": [
    "# im on the broadcasting video"
   ]
  }
 ]
}