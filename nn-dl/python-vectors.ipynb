{
 "metadata": {
  "language_info": {
   "codemirror_mode": {
    "name": "ipython",
    "version": 3
   },
   "file_extension": ".py",
   "mimetype": "text/x-python",
   "name": "python",
   "nbconvert_exporter": "python",
   "pygments_lexer": "ipython3",
   "version": "3.8.5"
  },
  "orig_nbformat": 2,
  "kernelspec": {
   "name": "python385jvsc74a57bd0e2875cea88ccda1abc495529b39daef8259c80b535f2fa7045192d954b19a3c5",
   "display_name": "Python 3.8.5 64-bit ('base': conda)"
  }
 },
 "nbformat": 4,
 "nbformat_minor": 2,
 "cells": [
  {
   "source": [
    "import pandas as pd \n",
    "import numpy as np \n",
    "import time"
   ],
   "cell_type": "code",
   "metadata": {},
   "execution_count": 1,
   "outputs": []
  },
  {
   "cell_type": "code",
   "execution_count": 9,
   "metadata": {},
   "outputs": [
    {
     "output_type": "stream",
     "name": "stdout",
     "text": [
      "vectorized took 0.3809928894042969 ms\n2505.1629577634767\n"
     ]
    }
   ],
   "source": [
    "w = np.random.rand(10000)\n",
    "x = np.random.rand(10000)\n",
    "tic = time.time()\n",
    "z = np.dot(w,x)\n",
    "toc = time.time()\n",
    "print(f\"vectorized took {(toc-tic)*1000} ms\")\n",
    "print(z)"
   ]
  },
  {
   "cell_type": "code",
   "execution_count": 10,
   "metadata": {},
   "outputs": [
    {
     "output_type": "stream",
     "name": "stdout",
     "text": [
      "44\n"
     ]
    }
   ],
   "source": [
    "y = np.array([1,2,3])\n",
    "d = np.array([6,7,8])\n",
    "p = np.dot(y,d)\n",
    "print(p)"
   ]
  },
  {
   "cell_type": "code",
   "execution_count": 12,
   "metadata": {},
   "outputs": [],
   "source": [
    "v = np.random.rand(1000)\n",
    "u = np.exp(v)"
   ]
  },
  {
   "cell_type": "code",
   "execution_count": 15,
   "metadata": {},
   "outputs": [
    {
     "output_type": "stream",
     "name": "stdout",
     "text": [
      "[1.34142678 1.52025037 1.50908065]\n"
     ]
    }
   ],
   "source": [
    "print(u[:3])"
   ]
  },
  {
   "cell_type": "code",
   "execution_count": 16,
   "metadata": {},
   "outputs": [
    {
     "output_type": "stream",
     "name": "stdout",
     "text": [
      "[[ 56.    0.    4.4  68. ]\n [  1.2 104.   52.    8. ]\n [  1.8 135.   99.    0.9]]\n"
     ]
    }
   ],
   "source": [
    "# broadcasting \n",
    "A = np.array([[56, 0, 4.4, 68.0], \n",
    "[1.2, 104, 52.0, 8.0], \n",
    "[1.8, 135, 99, .9]])\n",
    "print(A)"
   ]
  },
  {
   "cell_type": "code",
   "execution_count": 18,
   "metadata": {},
   "outputs": [
    {
     "output_type": "stream",
     "name": "stdout",
     "text": [
      "The number per column is [ 59.  239.  155.4  76.9]\n"
     ]
    }
   ],
   "source": [
    "# axis = 0, apply veritcally \n",
    "# axis = 1, apply horizonallt \n",
    "cal = A.sum(axis=0)\n",
    "print(f\"The number per column is {cal}\")"
   ]
  },
  {
   "cell_type": "code",
   "execution_count": 19,
   "metadata": {},
   "outputs": [
    {
     "output_type": "stream",
     "name": "stdout",
     "text": [
      "[[94.91525424  0.          2.83140283 88.42652796]\n [ 2.03389831 43.51464435 33.46203346 10.40312094]\n [ 3.05084746 56.48535565 63.70656371  1.17035111]]\n"
     ]
    }
   ],
   "source": [
    "# cal is already reshaped, this is redundant \n",
    "percentage = 100*A/cal.reshape(1,4)\n",
    "print(percentage)"
   ]
  },
  {
   "cell_type": "code",
   "execution_count": 21,
   "metadata": {},
   "outputs": [
    {
     "output_type": "execute_result",
     "data": {
      "text/plain": [
       "array([[ True,  True,  True,  True]])"
      ]
     },
     "metadata": {},
     "execution_count": 21
    }
   ],
   "source": [
    "cal.reshape(1,4) == cal"
   ]
  },
  {
   "cell_type": "code",
   "execution_count": 22,
   "metadata": {},
   "outputs": [
    {
     "output_type": "execute_result",
     "data": {
      "text/plain": [
       "array([159. , 339. , 255.4, 176.9])"
      ]
     },
     "metadata": {},
     "execution_count": 22
    }
   ],
   "source": [
    "100 +cal "
   ]
  },
  {
   "cell_type": "code",
   "execution_count": 24,
   "metadata": {},
   "outputs": [
    {
     "output_type": "stream",
     "name": "stdout",
     "text": [
      "(5, 1)\n"
     ]
    }
   ],
   "source": [
    "# contructing vectors for better programming\n",
    "a = np.random.randn(5,1)\n",
    "print(a.shape)"
   ]
  },
  {
   "cell_type": "code",
   "execution_count": 25,
   "metadata": {},
   "outputs": [
    {
     "output_type": "execute_result",
     "data": {
      "text/plain": [
       "array([[ 0.11467795, -0.63943893,  0.33734655,  0.16415834, -0.17719008],\n",
       "       [-0.63943893,  3.56548175, -1.88102872, -0.91533926,  0.98800367],\n",
       "       [ 0.33734655, -1.88102872,  0.99236773,  0.48290232, -0.52123764],\n",
       "       [ 0.16415834, -0.91533926,  0.48290232,  0.23498815, -0.25364274],\n",
       "       [-0.17719008,  0.98800367, -0.52123764, -0.25364274,  0.27377822]])"
      ]
     },
     "metadata": {},
     "execution_count": 25
    }
   ],
   "source": [
    "np.dot(a, a.T)"
   ]
  },
  {
   "cell_type": "code",
   "execution_count": 28,
   "metadata": {},
   "outputs": [],
   "source": [
    "# rank 1 arrays (a= np.random.rand(5))\n",
    "# needs to be a column vector (a = np.random.rand(5,1)) or row vector (1,5)\n",
    "assert(a.shape == (5,1))\n"
   ]
  },
  {
   "cell_type": "code",
   "execution_count": 38,
   "metadata": {},
   "outputs": [
    {
     "output_type": "stream",
     "name": "stdout",
     "text": [
      "[[ -3.59540841  19.69864108  13.85241769 ...  13.07044627 -14.66641118\n   -4.59020087]\n [  0.35950658   8.94798211  -8.49810586 ...  -3.57270786   7.57362224\n  -17.84897963]\n [ 15.32522731  21.15872772  21.01987208 ...  12.90121252   3.15689421\n    2.42045141]\n ...\n [-13.58316526  -5.86139329  15.62406666 ...  -4.29579613  -0.35910979\n   -3.10977769]\n [ -9.72677654  35.83711843   3.91704557 ...  10.42754857  -2.21115967\n   -0.81845881]\n [ 10.88172795   5.31451062  13.41189294 ...   1.63616522  12.09836859\n    6.69557273]]\n(12288, 45)\n"
     ]
    }
   ],
   "source": [
    "# quiz\n",
    "a = np.random.randn(12288,150)\n",
    "b = np.random.randn(150,45)\n",
    "c = np.dot(a,b)\n",
    "print(c)\n",
    "print(c.shape)"
   ]
  },
  {
   "cell_type": "code",
   "execution_count": 36,
   "metadata": {},
   "outputs": [
    {
     "output_type": "execute_result",
     "data": {
      "text/plain": [
       "(4, 3)"
      ]
     },
     "metadata": {},
     "execution_count": 36
    }
   ],
   "source": [
    "a.shape"
   ]
  },
  {
   "cell_type": "code",
   "execution_count": 37,
   "metadata": {},
   "outputs": [
    {
     "output_type": "execute_result",
     "data": {
      "text/plain": [
       "array([[-2.25304832,  0.47192553,  0.03824717],\n",
       "       [-1.02528385, -0.70109991,  0.12574249],\n",
       "       [-1.33357019, -0.14483974,  0.17534227],\n",
       "       [ 0.63655947, -0.2778664 ,  0.4245943 ]])"
      ]
     },
     "metadata": {},
     "execution_count": 37
    }
   ],
   "source": [
    "a"
   ]
  },
  {
   "cell_type": "code",
   "execution_count": 48,
   "metadata": {},
   "outputs": [
    {
     "output_type": "error",
     "ename": "TypeError",
     "evalue": "'numpy.float64' object does not support item assignment",
     "traceback": [
      "\u001b[0;31m---------------------------------------------------------------------------\u001b[0m",
      "\u001b[0;31mTypeError\u001b[0m                                 Traceback (most recent call last)",
      "\u001b[0;32m<ipython-input-48-7e5192e20252>\u001b[0m in \u001b[0;36m<module>\u001b[0;34m\u001b[0m\n\u001b[1;32m      3\u001b[0m \u001b[0;32mfor\u001b[0m \u001b[0mi\u001b[0m \u001b[0;32min\u001b[0m \u001b[0mrange\u001b[0m\u001b[0;34m(\u001b[0m\u001b[0;36m3\u001b[0m\u001b[0;34m)\u001b[0m\u001b[0;34m:\u001b[0m\u001b[0;34m\u001b[0m\u001b[0;34m\u001b[0m\u001b[0m\n\u001b[1;32m      4\u001b[0m     \u001b[0;32mfor\u001b[0m \u001b[0mj\u001b[0m \u001b[0;32min\u001b[0m \u001b[0mrange\u001b[0m\u001b[0;34m(\u001b[0m\u001b[0;36m4\u001b[0m\u001b[0;34m)\u001b[0m\u001b[0;34m:\u001b[0m\u001b[0;34m\u001b[0m\u001b[0;34m\u001b[0m\u001b[0m\n\u001b[0;32m----> 5\u001b[0;31m         \u001b[0mw\u001b[0m\u001b[0;34m[\u001b[0m\u001b[0mi\u001b[0m\u001b[0;34m]\u001b[0m\u001b[0;34m[\u001b[0m\u001b[0mj\u001b[0m\u001b[0;34m]\u001b[0m \u001b[0;34m=\u001b[0m \u001b[0mx\u001b[0m\u001b[0;34m[\u001b[0m\u001b[0mi\u001b[0m\u001b[0;34m]\u001b[0m\u001b[0;34m[\u001b[0m\u001b[0mj\u001b[0m\u001b[0;34m]\u001b[0m \u001b[0;34m+\u001b[0m \u001b[0my\u001b[0m\u001b[0;34m[\u001b[0m\u001b[0mj\u001b[0m\u001b[0;34m]\u001b[0m\u001b[0;34m\u001b[0m\u001b[0;34m\u001b[0m\u001b[0m\n\u001b[0m",
      "\u001b[0;31mTypeError\u001b[0m: 'numpy.float64' object does not support item assignment"
     ]
    }
   ],
   "source": [
    "\n",
    "x = np.random.rand(3,4)\n",
    "y = np.random.rand(4,1)\n",
    "for i in range(3): \n",
    "    for j in range(4): \n",
    "        w[i][j] = x[i][j] + y[j]"
   ]
  },
  {
   "cell_type": "code",
   "execution_count": 45,
   "metadata": {},
   "outputs": [
    {
     "output_type": "execute_result",
     "data": {
      "text/plain": [
       "(12288, 45)"
      ]
     },
     "metadata": {},
     "execution_count": 45
    }
   ],
   "source": [
    "c.shape"
   ]
  },
  {
   "cell_type": "code",
   "execution_count": 49,
   "metadata": {},
   "outputs": [],
   "source": [
    "a = np.random.randn(3, 3)\n",
    "b = np.random.randn(3, 1)\n",
    "c = a*b "
   ]
  },
  {
   "cell_type": "code",
   "execution_count": 50,
   "metadata": {},
   "outputs": [
    {
     "output_type": "execute_result",
     "data": {
      "text/plain": [
       "array([[-0.005613  , -0.04678177, -0.01949701],\n",
       "       [-0.11649591,  0.94041493, -1.18833401],\n",
       "       [ 1.19844776,  0.65735991,  0.28104841]])"
      ]
     },
     "metadata": {},
     "execution_count": 50
    }
   ],
   "source": [
    "c"
   ]
  },
  {
   "cell_type": "code",
   "execution_count": 52,
   "metadata": {},
   "outputs": [
    {
     "output_type": "execute_result",
     "data": {
      "text/plain": [
       "(3, 3)"
      ]
     },
     "metadata": {},
     "execution_count": 52
    }
   ],
   "source": [
    "c.shape"
   ]
  },
  {
   "cell_type": "code",
   "execution_count": 56,
   "metadata": {},
   "outputs": [
    {
     "output_type": "execute_result",
     "data": {
      "text/plain": [
       "array([[-0.043014  ],\n",
       "       [-0.88648132],\n",
       "       [ 0.80234387]])"
      ]
     },
     "metadata": {},
     "execution_count": 56
    }
   ],
   "source": [
    "b"
   ]
  },
  {
   "cell_type": "code",
   "execution_count": 3,
   "metadata": {},
   "outputs": [
    {
     "output_type": "execute_result",
     "data": {
      "text/plain": [
       "array([[0.],\n",
       "       [0.],\n",
       "       [0.],\n",
       "       [0.],\n",
       "       [0.]])"
      ]
     },
     "metadata": {},
     "execution_count": 3
    }
   ],
   "source": [
    "np.zeros((5,1))"
   ]
  },
  {
   "cell_type": "code",
   "execution_count": null,
   "metadata": {},
   "outputs": [],
   "source": []
  }
 ]
}