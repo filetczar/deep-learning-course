{
 "metadata": {
  "language_info": {
   "codemirror_mode": {
    "name": "ipython",
    "version": 3
   },
   "file_extension": ".py",
   "mimetype": "text/x-python",
   "name": "python",
   "nbconvert_exporter": "python",
   "pygments_lexer": "ipython3",
   "version": "3.8.5"
  },
  "orig_nbformat": 2,
  "kernelspec": {
   "name": "python385jvsc74a57bd0e2875cea88ccda1abc495529b39daef8259c80b535f2fa7045192d954b19a3c5",
   "display_name": "Python 3.8.5 64-bit ('base': conda)"
  }
 },
 "nbformat": 4,
 "nbformat_minor": 2,
 "cells": [
  {
   "source": [
    "import pandas as pd \n",
    "import numpy as np \n",
    "import time"
   ],
   "cell_type": "code",
   "metadata": {},
   "execution_count": 5,
   "outputs": []
  },
  {
   "cell_type": "code",
   "execution_count": 9,
   "metadata": {},
   "outputs": [
    {
     "output_type": "stream",
     "name": "stdout",
     "text": [
      "vectorized took 0.3809928894042969 ms\n2505.1629577634767\n"
     ]
    }
   ],
   "source": [
    "w = np.random.rand(10000)\n",
    "x = np.random.rand(10000)\n",
    "tic = time.time()\n",
    "z = np.dot(w,x)\n",
    "toc = time.time()\n",
    "print(f\"vectorized took {(toc-tic)*1000} ms\")\n",
    "print(z)"
   ]
  },
  {
   "cell_type": "code",
   "execution_count": 10,
   "metadata": {},
   "outputs": [
    {
     "output_type": "stream",
     "name": "stdout",
     "text": [
      "44\n"
     ]
    }
   ],
   "source": [
    "y = np.array([1,2,3])\n",
    "d = np.array([6,7,8])\n",
    "p = np.dot(y,d)\n",
    "print(p)"
   ]
  },
  {
   "cell_type": "code",
   "execution_count": 12,
   "metadata": {},
   "outputs": [],
   "source": [
    "v = np.random.rand(1000)\n",
    "u = np.exp(v)"
   ]
  },
  {
   "cell_type": "code",
   "execution_count": 15,
   "metadata": {},
   "outputs": [
    {
     "output_type": "stream",
     "name": "stdout",
     "text": [
      "[1.34142678 1.52025037 1.50908065]\n"
     ]
    }
   ],
   "source": [
    "print(u[:3])"
   ]
  },
  {
   "cell_type": "code",
   "execution_count": 16,
   "metadata": {},
   "outputs": [
    {
     "output_type": "stream",
     "name": "stdout",
     "text": [
      "[[ 56.    0.    4.4  68. ]\n [  1.2 104.   52.    8. ]\n [  1.8 135.   99.    0.9]]\n"
     ]
    }
   ],
   "source": [
    "# broadcasting \n",
    "A = np.array([[56, 0, 4.4, 68.0], \n",
    "[1.2, 104, 52.0, 8.0], \n",
    "[1.8, 135, 99, .9]])\n",
    "print(A)"
   ]
  },
  {
   "cell_type": "code",
   "execution_count": 18,
   "metadata": {},
   "outputs": [
    {
     "output_type": "stream",
     "name": "stdout",
     "text": [
      "The number per column is [ 59.  239.  155.4  76.9]\n"
     ]
    }
   ],
   "source": [
    "# axis = 0, apply veritcally \n",
    "# axis = 1, apply horizonallt \n",
    "cal = A.sum(axis=0)\n",
    "print(f\"The number per column is {cal}\")"
   ]
  },
  {
   "cell_type": "code",
   "execution_count": 19,
   "metadata": {},
   "outputs": [
    {
     "output_type": "stream",
     "name": "stdout",
     "text": [
      "[[94.91525424  0.          2.83140283 88.42652796]\n [ 2.03389831 43.51464435 33.46203346 10.40312094]\n [ 3.05084746 56.48535565 63.70656371  1.17035111]]\n"
     ]
    }
   ],
   "source": [
    "# cal is already reshaped, this is redundant \n",
    "percentage = 100*A/cal.reshape(1,4)\n",
    "print(percentage)"
   ]
  },
  {
   "cell_type": "code",
   "execution_count": 21,
   "metadata": {},
   "outputs": [
    {
     "output_type": "execute_result",
     "data": {
      "text/plain": [
       "array([[ True,  True,  True,  True]])"
      ]
     },
     "metadata": {},
     "execution_count": 21
    }
   ],
   "source": [
    "cal.reshape(1,4) == cal"
   ]
  },
  {
   "cell_type": "code",
   "execution_count": 22,
   "metadata": {},
   "outputs": [
    {
     "output_type": "execute_result",
     "data": {
      "text/plain": [
       "array([159. , 339. , 255.4, 176.9])"
      ]
     },
     "metadata": {},
     "execution_count": 22
    }
   ],
   "source": [
    "100 +cal "
   ]
  },
  {
   "cell_type": "code",
   "execution_count": 24,
   "metadata": {},
   "outputs": [
    {
     "output_type": "stream",
     "name": "stdout",
     "text": [
      "(5, 1)\n"
     ]
    }
   ],
   "source": [
    "# contructing vectors for better programming\n",
    "a = np.random.randn(5,1)\n",
    "print(a.shape)"
   ]
  },
  {
   "cell_type": "code",
   "execution_count": 25,
   "metadata": {},
   "outputs": [
    {
     "output_type": "execute_result",
     "data": {
      "text/plain": [
       "array([[ 0.11467795, -0.63943893,  0.33734655,  0.16415834, -0.17719008],\n",
       "       [-0.63943893,  3.56548175, -1.88102872, -0.91533926,  0.98800367],\n",
       "       [ 0.33734655, -1.88102872,  0.99236773,  0.48290232, -0.52123764],\n",
       "       [ 0.16415834, -0.91533926,  0.48290232,  0.23498815, -0.25364274],\n",
       "       [-0.17719008,  0.98800367, -0.52123764, -0.25364274,  0.27377822]])"
      ]
     },
     "metadata": {},
     "execution_count": 25
    }
   ],
   "source": [
    "np.dot(a, a.T)"
   ]
  },
  {
   "cell_type": "code",
   "execution_count": 28,
   "metadata": {},
   "outputs": [],
   "source": [
    "# rank 1 arrays (a= np.random.rand(5))\n",
    "# needs to be a column vector (a = np.random.rand(5,1)) or row vector (1,5)\n",
    "assert(a.shape == (5,1))\n"
   ]
  },
  {
   "cell_type": "code",
   "execution_count": null,
   "metadata": {},
   "outputs": [],
   "source": []
  }
 ]
}